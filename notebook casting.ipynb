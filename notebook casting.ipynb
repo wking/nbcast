{
 "metadata": {
  "name": "notebook casting"
 },
 "nbformat": 3,
 "nbformat_minor": 0,
 "worksheets": [
  {
   "cells": [
    {
     "cell_type": "markdown",
     "metadata": {},
     "source": [
      "<h2>Working with lists</h2><video height=\"180\" width=\"300\" id=\"ourvideo\" controls><source src=\"/static/media/lists.mp4\"><source src=\"/static/media/lists.ogv\"></video><a href=\"#\" onclick=\"resetCells();\">Reset</a>"
     ]
    },
    {
     "cell_type": "code",
     "collapsed": false,
     "input": [
      "gases = ['He', 'Ne', 'Ar', 'Kr']"
     ],
     "language": "python",
     "metadata": {
       "popcorn_cues": {
           "show": "00:00:35"
         }
       },
     "outputs": [],
     "prompt_number": 1
    },
    {
     "cell_type": "code",
     "collapsed": false,
     "input": [
      "gases[1]"
     ],
     "language": "python",
     "metadata": {
       "popcorn_cues": {
           "show": "00:00:41"
         }
       },
     "outputs": [
      {
       "output_type": "pyout",
       "prompt_number": 2,
       "text": [
        "'Ne'"
       ]
      }
     ],
     "prompt_number": 2
    },
    {
     "cell_type": "code",
     "collapsed": false,
     "input": [
      "gases[4]"
     ],
     "language": "python",
     "metadata": {
       "popcorn_cues": {
           "show": "00:01:09"
         }
       },
     "outputs": [
      {
       "ename": "IndexError",
       "evalue": "list index out of range",
       "output_type": "pyerr",
       "traceback": [
        "\u001b[1;31m---------------------------------------------------------------------------\u001b[0m\n\u001b[1;31mIndexError\u001b[0m                                Traceback (most recent call last)",
        "\u001b[1;32m<ipython-input-3-6dddaa746853>\u001b[0m in \u001b[0;36m<module>\u001b[1;34m()\u001b[0m\n\u001b[1;32m----> 1\u001b[1;33m \u001b[0mgases\u001b[0m\u001b[1;33m[\u001b[0m\u001b[1;36m4\u001b[0m\u001b[1;33m]\u001b[0m\u001b[1;33m\u001b[0m\u001b[0m\n\u001b[0m",
        "\u001b[1;31mIndexError\u001b[0m: list index out of range"
       ]
      }
     ],
     "prompt_number": 3
    }
   ],
   "metadata": {}
  }
 ]
}
